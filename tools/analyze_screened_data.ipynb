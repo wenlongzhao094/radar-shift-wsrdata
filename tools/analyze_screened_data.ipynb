{
 "cells": [
  {
   "cell_type": "markdown",
   "metadata": {
    "ExecuteTime": {
     "end_time": "2021-10-02T15:51:11.085988Z",
     "start_time": "2021-10-02T15:51:11.079657Z"
    }
   },
   "source": [
    "# Preprocessing of allstations_batch2\n",
    "\n",
    "Years: 2019 to 2009 (total = 11 years)\n",
    "\n",
    "Some station-years are not yet finished for this period.\n",
    "\n",
    "2020 needs review.\n",
    "\n",
    "The last report stated that KDTX-2017 needed review. It did have an unusual number of roosts in the beginning of September, but the roosts are legit. KMKX-2019 and KGRB-2010 also needed review because of days where `\"viewed\" == False`, and that was fixed for this report. \n",
    "\n",
    "Typos in KTYX track notes were also fixed for this report.\n",
    "\n",
    "## Load libraries"
   ]
  },
  {
   "cell_type": "code",
   "execution_count": 31,
   "metadata": {
    "ExecuteTime": {
     "end_time": "2021-10-20T14:22:44.364328Z",
     "start_time": "2021-10-20T14:22:44.356163Z"
    }
   },
   "outputs": [],
   "source": [
    "import numpy as np\n",
    "import pandas as pd\n",
    "import os\n",
    "\n",
    "import matplotlib.pyplot as plt"
   ]
  },
  {
   "cell_type": "markdown",
   "metadata": {},
   "source": [
    "## Merge annotations\n",
    "\n",
    "This creates a single dataset with all the annotations. Notice that in this dataset, called `df`, there will be both roosts and non-roosts.\n",
    "\n",
    "Note: each annotation file has detections from June 1st to December 31st."
   ]
  },
  {
   "cell_type": "code",
   "execution_count": 32,
   "metadata": {
    "ExecuteTime": {
     "end_time": "2021-10-20T14:22:50.939132Z",
     "start_time": "2021-10-20T14:22:50.936256Z"
    }
   },
   "outputs": [],
   "source": [
    "batch = \"allstations_batch2\""
   ]
  },
  {
   "cell_type": "code",
   "execution_count": 33,
   "metadata": {
    "ExecuteTime": {
     "end_time": "2021-10-20T14:23:09.125122Z",
     "start_time": "2021-10-20T14:22:52.243889Z"
    }
   },
   "outputs": [
    {
     "name": "stdout",
     "output_type": "stream",
     "text": [
      "Read 124 files.\n"
     ]
    }
   ],
   "source": [
    "# Set directoy to look for files:\n",
    "data_dir = \"../../data/raw_annotations/\" + batch + \"/\" + batch + \"/\" \n",
    "\n",
    "dir_list = os.listdir(data_dir)\n",
    "\n",
    "i = 0\n",
    "\n",
    "for folder in dir_list[0:-1]:\n",
    "\n",
    "    # List files inside each folder:\n",
    "    file_list = os.listdir(data_dir + \"/\" + folder)\n",
    "\n",
    "    for file in file_list:\n",
    "         \n",
    "        if i == 0:\n",
    "        \n",
    "            df = pd.read_csv(data_dir + \"/\" + folder + \"/\" + file)\n",
    "        \n",
    "        else:\n",
    "        \n",
    "            if file.endswith(\".csv\"):\n",
    "                new_df = pd.read_csv(data_dir + \"/\" + folder + \"/\" + file)\n",
    "                df = pd.concat([df, new_df])\n",
    "        \n",
    "        i = i + 1\n",
    "\n",
    "        \n",
    "# Convert to dates and times:\n",
    "df[\"date\"] = pd.to_datetime(df[\"date\"], format = '%Y%m%d')\n",
    "df[\"year\"] = df.apply(lambda x: x[\"date\"].year, axis=1)\n",
    "df[\"day\"] = df.apply(lambda x: x[\"date\"].day, axis=1)\n",
    "df[\"month\"] = df.apply(lambda x: x[\"date\"].month, axis=1)\n",
    "df[\"time\"] = pd.to_datetime(df[\"time\"], format = '%H%M%S')\n",
    "\n",
    "print(\"Read \" + str(i + 1) + \" files.\")"
   ]
  },
  {
   "cell_type": "code",
   "execution_count": 34,
   "metadata": {
    "ExecuteTime": {
     "end_time": "2021-10-20T14:23:09.959445Z",
     "start_time": "2021-10-20T14:23:09.883205Z"
    }
   },
   "outputs": [
    {
     "name": "stdout",
     "output_type": "stream",
     "text": [
      "Number of detections with each note:\n"
     ]
    },
    {
     "data": {
      "text/plain": [
       "long       1267\n",
       "large       842\n",
       "rn          662\n",
       "shrinks     178\n",
       "nr           61\n",
       "Name: notes, dtype: int64"
      ]
     },
     "execution_count": 34,
     "metadata": {},
     "output_type": "execute_result"
    }
   ],
   "source": [
    "# Make all notes lowercase:\n",
    "df.notes = df[\"notes\"].str.lower()\n",
    "\n",
    "print(\"Number of detections with each note:\")\n",
    "df[\"notes\"].value_counts()"
   ]
  },
  {
   "cell_type": "code",
   "execution_count": 35,
   "metadata": {
    "ExecuteTime": {
     "end_time": "2021-10-20T14:23:13.420243Z",
     "start_time": "2021-10-20T14:23:13.355669Z"
    }
   },
   "outputs": [],
   "source": [
    "# Make all notes for the day lowercase:\n",
    "df.day_notes = df[\"day_notes\"].str.lower()"
   ]
  },
  {
   "cell_type": "code",
   "execution_count": 36,
   "metadata": {
    "ExecuteTime": {
     "end_time": "2021-10-20T14:23:14.710136Z",
     "start_time": "2021-10-20T14:23:14.518163Z"
    }
   },
   "outputs": [],
   "source": [
    "# There were occasions where \"cluster\" was labelled \"clusters\", fix it:\n",
    "df = df.replace(\"clusters\", \"cluster\")\n",
    "\n",
    "# There were occasions where \"pap\" was labelled \"psp\", fix it:\n",
    "df = df.replace(\"psp\", \"pap\")"
   ]
  },
  {
   "cell_type": "code",
   "execution_count": 37,
   "metadata": {
    "ExecuteTime": {
     "end_time": "2021-10-20T14:23:15.413447Z",
     "start_time": "2021-10-20T14:23:15.357509Z"
    }
   },
   "outputs": [
    {
     "data": {
      "text/plain": [
       "161331"
      ]
     },
     "execution_count": 37,
     "metadata": {},
     "output_type": "execute_result"
    }
   ],
   "source": [
    "# Number of tracks before filtering:\n",
    "len(df.track_id.unique())"
   ]
  },
  {
   "cell_type": "code",
   "execution_count": 38,
   "metadata": {
    "ExecuteTime": {
     "end_time": "2021-10-20T14:23:16.010819Z",
     "start_time": "2021-10-20T14:23:15.995181Z"
    }
   },
   "outputs": [
    {
     "data": {
      "text/plain": [
       "307885"
      ]
     },
     "execution_count": 38,
     "metadata": {},
     "output_type": "execute_result"
    }
   ],
   "source": [
    "# Number of detections before filtering:\n",
    "len(df)"
   ]
  },
  {
   "cell_type": "code",
   "execution_count": 39,
   "metadata": {
    "ExecuteTime": {
     "end_time": "2021-10-20T14:23:17.750992Z",
     "start_time": "2021-10-20T14:23:17.743625Z"
    }
   },
   "outputs": [
    {
     "data": {
      "text/plain": [
       "3156"
      ]
     },
     "execution_count": 39,
     "metadata": {},
     "output_type": "execute_result"
    }
   ],
   "source": [
    "# Number of days before filtering:\n",
    "len(df.date.unique())"
   ]
  },
  {
   "cell_type": "markdown",
   "metadata": {},
   "source": [
    "## Filter roosts"
   ]
  },
  {
   "cell_type": "code",
   "execution_count": 40,
   "metadata": {
    "ExecuteTime": {
     "end_time": "2021-10-20T14:23:19.345210Z",
     "start_time": "2021-10-20T14:23:19.187341Z"
    }
   },
   "outputs": [],
   "source": [
    "# Filter only roosts (remove non-roost and duplicate):\n",
    "roosts = df[(df['label'] != 'non-roost') & (df['label'] != 'duplicate')]\n",
    "\n",
    "# Filter the general dataset to get only detections from June to October (inclusive):\n",
    "screen_start = 6\n",
    "screen_end = 10\n",
    "\n",
    "roosts = roosts[(roosts[\"month\"]>= screen_start) & (roosts[\"month\"] <= screen_end)]\n",
    "\n",
    "# Remove days noted as \"ap\" or as \"weather\":\n",
    "roosts = roosts[(roosts.day_notes != \"ap\") & (roosts.day_notes != \"weather\")]\n",
    "\n",
    "# Get a single index column for all detections::\n",
    "roosts.reset_index(drop=True, inplace=True)\n",
    "\n",
    "# Create a unique identifier for each single detection (each row in the dataset):\n",
    "detection_id = []\n",
    "\n",
    "for i in range(0, len(roosts)):\n",
    "    if i <= 9:\n",
    "        identifier = \"DET00000\" + str(i)\n",
    "\n",
    "    elif (i >= 10) and (i<100):\n",
    "        identifier = \"DET0000\" + str(i)\n",
    "\n",
    "    elif (i >= 100) and (i<1000):\n",
    "        identifier = \"DET000\" + str(i)\n",
    "\n",
    "    elif (i >= 1000) and (i<10000):\n",
    "        identifier = \"DET00\" + str(i)\n",
    "    \n",
    "    elif (i >= 10000) and (i < 100000):\n",
    "        identifier = \"DET0\" + str(i)\n",
    "    \n",
    "    elif (i >= 100000) and (i < 1000000):\n",
    "        identifier = \"DET\" + str(i)\n",
    "\n",
    "    detection_id.append(identifier)\n",
    "\n",
    "roosts[\"detection_id\"] = detection_id\n"
   ]
  },
  {
   "cell_type": "markdown",
   "metadata": {},
   "source": [
    "## Some sanity checks"
   ]
  },
  {
   "cell_type": "code",
   "execution_count": 13,
   "metadata": {
    "ExecuteTime": {
     "end_time": "2021-10-18T15:24:13.476038Z",
     "start_time": "2021-10-18T15:24:13.467239Z"
    }
   },
   "outputs": [
    {
     "data": {
      "text/plain": [
       "7490"
      ]
     },
     "execution_count": 13,
     "metadata": {},
     "output_type": "execute_result"
    }
   ],
   "source": [
    "# Number of tracks after filtering:\n",
    "len(roosts.track_id.unique())"
   ]
  },
  {
   "cell_type": "code",
   "execution_count": 14,
   "metadata": {
    "ExecuteTime": {
     "end_time": "2021-10-18T15:24:14.824652Z",
     "start_time": "2021-10-18T15:24:14.813672Z"
    }
   },
   "outputs": [
    {
     "data": {
      "text/plain": [
       "31683"
      ]
     },
     "execution_count": 14,
     "metadata": {},
     "output_type": "execute_result"
    }
   ],
   "source": [
    "# Number of detections after filtering:\n",
    "len(roosts)"
   ]
  },
  {
   "cell_type": "code",
   "execution_count": 15,
   "metadata": {
    "ExecuteTime": {
     "end_time": "2021-10-18T15:24:16.461509Z",
     "start_time": "2021-10-18T15:24:16.413617Z"
    }
   },
   "outputs": [
    {
     "data": {
      "text/plain": [
       "0"
      ]
     },
     "execution_count": 15,
     "metadata": {},
     "output_type": "execute_result"
    }
   ],
   "source": [
    "# Check if all detections have only ONE occurrence (this output should be ZERO):\n",
    "sum(roosts.detection_id.value_counts()>=2)"
   ]
  },
  {
   "cell_type": "code",
   "execution_count": 16,
   "metadata": {
    "ExecuteTime": {
     "end_time": "2021-10-18T15:24:18.510056Z",
     "start_time": "2021-10-18T15:24:18.486794Z"
    }
   },
   "outputs": [
    {
     "data": {
      "text/plain": [
       "swallow-roost          0.797841\n",
       "bad-track              0.083925\n",
       "unknown-noise-roost    0.070669\n",
       "weather-roost          0.041473\n",
       "AP-roost               0.006092\n",
       "Name: label, dtype: float64"
      ]
     },
     "execution_count": 16,
     "metadata": {},
     "output_type": "execute_result"
    }
   ],
   "source": [
    "# Check if only the desired labels were added and print relative frequency of each one:\n",
    "roosts.label.value_counts()/len(roosts)"
   ]
  },
  {
   "cell_type": "code",
   "execution_count": 17,
   "metadata": {
    "ExecuteTime": {
     "end_time": "2021-10-18T15:24:22.488986Z",
     "start_time": "2021-10-18T15:24:22.465893Z"
    }
   },
   "outputs": [
    {
     "data": {
      "text/plain": [
       "KCLE    9605\n",
       "KDTX    6370\n",
       "KTYX    4041\n",
       "KIWX    3173\n",
       "KGRB    2165\n",
       "KGRR    2058\n",
       "KMKX    1276\n",
       "KDLH    1253\n",
       "KLOT    1245\n",
       "KAPX     497\n",
       "Name: station, dtype: int64"
      ]
     },
     "execution_count": 17,
     "metadata": {},
     "output_type": "execute_result"
    }
   ],
   "source": [
    "# Number of detections per station:\n",
    "roosts.station.value_counts()"
   ]
  },
  {
   "cell_type": "code",
   "execution_count": 18,
   "metadata": {
    "ExecuteTime": {
     "end_time": "2021-10-18T15:24:25.663333Z",
     "start_time": "2021-10-18T15:24:25.648969Z"
    }
   },
   "outputs": [
    {
     "data": {
      "text/plain": [
       "961"
      ]
     },
     "execution_count": 18,
     "metadata": {},
     "output_type": "execute_result"
    }
   ],
   "source": [
    "# Number of days after filtering:\n",
    "len(roosts.date.unique())"
   ]
  },
  {
   "cell_type": "markdown",
   "metadata": {},
   "source": [
    "## Get a list of station-years and days that need review\n",
    "\n",
    "While screening, we might accidentally skip some days. These will show up by filtering `viewed == False`. Here wew output a list of days that currently need review."
   ]
  },
  {
   "cell_type": "code",
   "execution_count": 56,
   "metadata": {
    "ExecuteTime": {
     "end_time": "2021-10-20T14:33:38.221041Z",
     "start_time": "2021-10-20T14:33:38.205456Z"
    }
   },
   "outputs": [
    {
     "name": "stdout",
     "output_type": "stream",
     "text": [
      "Days that weren't viewed and need review:\n"
     ]
    },
    {
     "data": {
      "text/html": [
       "<div>\n",
       "<style scoped>\n",
       "    .dataframe tbody tr th:only-of-type {\n",
       "        vertical-align: middle;\n",
       "    }\n",
       "\n",
       "    .dataframe tbody tr th {\n",
       "        vertical-align: top;\n",
       "    }\n",
       "\n",
       "    .dataframe thead th {\n",
       "        text-align: right;\n",
       "    }\n",
       "</style>\n",
       "<table border=\"1\" class=\"dataframe\">\n",
       "  <thead>\n",
       "    <tr style=\"text-align: right;\">\n",
       "      <th></th>\n",
       "      <th>station</th>\n",
       "      <th>year</th>\n",
       "      <th>date</th>\n",
       "    </tr>\n",
       "  </thead>\n",
       "  <tbody>\n",
       "    <tr>\n",
       "      <th>24284</th>\n",
       "      <td>KGRB</td>\n",
       "      <td>2010</td>\n",
       "      <td>2010-08-08</td>\n",
       "    </tr>\n",
       "    <tr>\n",
       "      <th>27294</th>\n",
       "      <td>KIWX</td>\n",
       "      <td>2009</td>\n",
       "      <td>2009-07-27</td>\n",
       "    </tr>\n",
       "  </tbody>\n",
       "</table>\n",
       "</div>"
      ],
      "text/plain": [
       "      station  year       date\n",
       "24284    KGRB  2010 2010-08-08\n",
       "27294    KIWX  2009 2009-07-27"
      ]
     },
     "execution_count": 56,
     "metadata": {},
     "output_type": "execute_result"
    }
   ],
   "source": [
    "not_viewed = roosts[roosts[\"viewed\"] == False].drop_duplicates(subset=[\"date\"])\n",
    "\n",
    "print(\"Days that weren't viewed and need review:\")\n",
    "not_viewed.loc[:, [\"station\", \"year\", \"date\"]]"
   ]
  },
  {
   "cell_type": "markdown",
   "metadata": {},
   "source": [
    "## Count the number of days lost to anomalous propagation or weather\n",
    "\n",
    "Our season has 153 days."
   ]
  },
  {
   "cell_type": "code",
   "execution_count": 19,
   "metadata": {
    "ExecuteTime": {
     "end_time": "2021-10-18T15:24:27.876998Z",
     "start_time": "2021-10-18T15:24:27.592371Z"
    }
   },
   "outputs": [],
   "source": [
    "note_table = []\n",
    "\n",
    "for station in df.station.unique():\n",
    "\n",
    "    station_df = df[df.station == station]\n",
    "    \n",
    "    # Some stations have less years available, so we will correct for that:\n",
    "    number_of_years = len(station_df.year.unique())\n",
    "    \n",
    "    row = [station]\n",
    "    \n",
    "    for note_type in [\"weather\", \"ap\", \"pap\"]:\n",
    "    \n",
    "        note_df = station_df[station_df.day_notes == note_type]\n",
    "        \n",
    "        note_type_prop = len(note_df.drop_duplicates(subset=[\"date\"]))/(number_of_years*153)\n",
    "        \n",
    "        row.append(note_type_prop)\n",
    "    \n",
    "    note_table.append(row)\n",
    "\n",
    "    note_table_df = pd.DataFrame(note_table, columns = [\"station\", \"weather\", \"ap\", \"pap\"])\n",
    "\n"
   ]
  },
  {
   "cell_type": "code",
   "execution_count": 20,
   "metadata": {
    "ExecuteTime": {
     "end_time": "2021-10-18T15:24:29.567371Z",
     "start_time": "2021-10-18T15:24:29.344142Z"
    }
   },
   "outputs": [
    {
     "data": {
      "image/png": "[encoded data removed]",
      "text/plain": [
       "<Figure size 432x288 with 1 Axes>"
      ]
     },
     "metadata": {
      "needs_background": "light"
     },
     "output_type": "display_data"
    }
   ],
   "source": [
    "note_table_df.plot(x=\"station\", kind=\"bar\", stacked=True)\n",
    "\n",
    "plt.xlabel(\"Station\", fontsize=14)\n",
    "plt.ylabel(\"Proportion of Lost Days\", fontsize = 14)\n",
    "plt.title(\"Proportion of Days Lost to Weather or Anomalous Propagation\");\n",
    "\n",
    "# Note: proportion will actually be slightly higher, because days with no detections are not\n",
    "# added to the dataset."
   ]
  },
  {
   "cell_type": "markdown",
   "metadata": {},
   "source": [
    "## Get the Proportion of Days with False Negatives\n",
    "\n",
    "Note: for each station, we can get the proportion of days with the note \"miss\", but this is not the actual proportion of false negatives because we didn't count the number of missing roosts on each day. "
   ]
  },
  {
   "cell_type": "code",
   "execution_count": 21,
   "metadata": {
    "ExecuteTime": {
     "end_time": "2021-10-18T15:24:41.233467Z",
     "start_time": "2021-10-18T15:24:41.013717Z"
    }
   },
   "outputs": [],
   "source": [
    "miss_table = []\n",
    "\n",
    "for station in df.station.unique():\n",
    "\n",
    "    station_df = df[df.station == station]\n",
    "\n",
    "    # Some stations have less than 6 years available, so we will correct for that:\n",
    "    number_of_years = len(station_df.year.unique())\n",
    "\n",
    "    # Get the number of days with note \"miss\"\n",
    "    miss_df = station_df[station_df.day_notes == \"miss\"]\n",
    "    miss_prop = len(miss_df.drop_duplicates(subset=[\"date\"]))/(153*number_of_years)        \n",
    "    miss_table.append([station, miss_prop])\n",
    "        \n",
    "miss_table_df = pd.DataFrame(miss_table, columns = [\"station\", \"miss\"])\n",
    "\n"
   ]
  },
  {
   "cell_type": "code",
   "execution_count": 104,
   "metadata": {
    "ExecuteTime": {
     "end_time": "2021-10-09T00:45:05.274403Z",
     "start_time": "2021-10-09T00:45:05.146288Z"
    }
   },
   "outputs": [
    {
     "data": {
      "image/png": "[encoded data removed]",
      "text/plain": [
       "<Figure size 432x288 with 1 Axes>"
      ]
     },
     "metadata": {
      "needs_background": "light"
     },
     "output_type": "display_data"
    }
   ],
   "source": [
    "miss_table_df.plot(x=\"station\", kind=\"bar\")\n",
    "\n",
    "plt.xlabel(\"Station\", fontsize=14)\n",
    "plt.ylabel(\"Proportion of Days\", fontsize = 14)\n",
    "plt.title(\"Proportion of Days with False Negatives\");"
   ]
  },
  {
   "cell_type": "code",
   "execution_count": 58,
   "metadata": {
    "ExecuteTime": {
     "end_time": "2021-10-12T20:28:39.425626Z",
     "start_time": "2021-10-12T20:28:39.404428Z"
    }
   },
   "outputs": [],
   "source": [
    "# Take a sample of the data:\n",
    "# roosts_sample = roosts.sample(6)\n",
    "\n",
    "# output_file = \"../../data/processed_data/test_batch/test_batch_raw_detections.csv\"\n",
    "# roosts_sample.to_csv(output_file, index = False)"
   ]
  },
  {
   "cell_type": "code",
   "execution_count": 18,
   "metadata": {
    "ExecuteTime": {
     "end_time": "2021-10-12T20:03:52.632266Z",
     "start_time": "2021-10-12T20:03:52.612403Z"
    }
   },
   "outputs": [],
   "source": [
    "# Write new df to file:\n",
    "#output_file = \"../../data/processed_data/\" + batch + \"/\" + batch + \"_raw_detections.csv\"\n",
    "#roosts.to_csv(output_file, index = False)"
   ]
  }
 ],
 "metadata": {
  "kernelspec": {
   "display_name": "Python 3",
   "language": "python",
   "name": "python3"
  },
  "language_info": {
   "codemirror_mode": {
    "name": "ipython",
    "version": 3
   },
   "file_extension": ".py",
   "mimetype": "text/x-python",
   "name": "python",
   "nbconvert_exporter": "python",
   "pygments_lexer": "ipython3",
   "version": "3.8.10"
  },
  "toc": {
   "base_numbering": 1,
   "nav_menu": {
    "height": "165px",
    "width": "538.984px"
   },
   "number_sections": true,
   "sideBar": true,
   "skip_h1_title": false,
   "title_cell": "Table of Contents",
   "title_sidebar": "Contents",
   "toc_cell": true,
   "toc_position": {},
   "toc_section_display": true,
   "toc_window_display": false
  },
  "varInspector": {
   "cols": {
    "lenName": 16,
    "lenType": 16,
    "lenVar": 40
   },
   "kernels_config": {
    "python": {
     "delete_cmd_postfix": "",
     "delete_cmd_prefix": "del ",
     "library": "var_list.py",
     "varRefreshCmd": "print(var_dic_list())"
    },
    "r": {
     "delete_cmd_postfix": ") ",
     "delete_cmd_prefix": "rm(",
     "library": "var_list.r",
     "varRefreshCmd": "cat(var_dic_list()) "
    }
   },
   "types_to_exclude": [
    "module",
    "function",
    "builtin_function_or_method",
    "instance",
    "_Feature"
   ],
   "window_display": false
  }
 },
 "nbformat": 4,
 "nbformat_minor": 4
}
