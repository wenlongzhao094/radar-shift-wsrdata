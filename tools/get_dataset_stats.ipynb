{
 "cells": [
  {
   "cell_type": "markdown",
   "metadata": {},
   "source": [
    "## roosts_v0.1.0"
   ]
  },
  {
   "cell_type": "code",
   "execution_count": 5,
   "metadata": {},
   "outputs": [
    {
     "name": "stdout",
     "output_type": "stream",
     "text": [
      "88452 scans.\n",
      "53700 annotations.\n",
      "13274 tracks.\n"
     ]
    }
   ],
   "source": [
    "import json\n",
    "with open(\"../datasets/roosts_v0.1.0/roosts_v0.1.0.json\", \"r\") as f:\n",
    "    datasets = json.load(f)\n",
    "print(f\"{len(datasets['scans'])} scans.\")\n",
    "print(f\"{len(datasets['annotations'])} annotations.\")\n",
    "seq_ids = set([annotation['sequence_id'] for annotation in datasets['annotations']])\n",
    "print(f\"{len(seq_ids)} tracks.\")"
   ]
  },
  {
   "cell_type": "code",
   "execution_count": 10,
   "metadata": {},
   "outputs": [
    {
     "name": "stdout",
     "output_type": "stream",
     "text": [
      "v0.1.0_standard test split stats:\n",
      "23587 scans.\n",
      "10942 annotations.\n",
      "0.4638996057150125 annotations per scan.\n",
      "1.6358200029899836 annotations per scan, considering only scans with annotations.\n"
     ]
    }
   ],
   "source": [
    "import json\n",
    "\n",
    "print(\"v0.1.0_standard test split stats:\")\n",
    "\n",
    "with open(\"../datasets/roosts_v0.1.0/roosts_v0.1.0_standard_splits.json\", \"r\") as f:\n",
    "    test_split = json.load(f)[\"test\"]\n",
    "    print(f\"{len(test_split)} scans.\")\n",
    "\n",
    "scans_with_roosts = set()\n",
    "n_annotations = 0\n",
    "with open(\"../datasets/roosts_v0.1.0/roosts_v0.1.0.json\", \"r\") as f:\n",
    "    datasets = json.load(f)\n",
    "for annotation in datasets['annotations']:\n",
    "    if annotation[\"scan_id\"] not in test_split:\n",
    "        continue\n",
    "    else:\n",
    "        scans_with_roosts.add(annotation[\"scan_id\"])\n",
    "        n_annotations += 1\n",
    "\n",
    "print(f\"{n_annotations} annotations.\")\n",
    "print(f\"{n_annotations/len(test_split)} annotations per scan.\")\n",
    "print(f\"{n_annotations/len(scans_with_roosts)} annotations per scan, considering only scans with annotations.\")\n",
    "\n",
    "# seq_ids = set([annotation['sequence_id'] for annotation in datasets['annotations']])\n",
    "# print(f\"{len(seq_ids)} tracks.\")"
   ]
  },
  {
   "cell_type": "markdown",
   "metadata": {},
   "source": [
    "## roosts_v0.2.0"
   ]
  },
  {
   "cell_type": "code",
   "execution_count": 3,
   "metadata": {},
   "outputs": [
    {
     "name": "stdout",
     "output_type": "stream",
     "text": [
      "701238 scans.\n",
      "123121 annotations.\n",
      "29618 tracks.\n"
     ]
    }
   ],
   "source": [
    "import json\n",
    "with open(\"../datasets/roosts_v0.2.0/roosts_v0.2.0.json\", \"r\") as f:\n",
    "    datasets = json.load(f)\n",
    "print(f\"{len(datasets['scans'])} scans.\")\n",
    "print(f\"{len(datasets['annotations'])} annotations.\")\n",
    "seq_ids = set([annotation['track_id'] for annotation in datasets['annotations']])\n",
    "print(f\"{len(seq_ids)} tracks.\")"
   ]
  },
  {
   "cell_type": "code",
   "execution_count": 2,
   "metadata": {},
   "outputs": [
    {
     "name": "stdout",
     "output_type": "stream",
     "text": [
      "v0.2.0_standard test split stats:\n",
      "82922 scans.\n",
      "21827 annotations.\n",
      "0.2632232700610212 annotations per scan.\n",
      "1.7490984854555653 annotations per scan, considering only scans with annotations.\n"
     ]
    }
   ],
   "source": [
    "import json\n",
    "\n",
    "print(\"v0.2.0_standard test split stats:\")\n",
    "\n",
    "with open(\"../datasets/roosts_v0.2.0/roosts_v0.2.0_standard_splits.json\", \"r\") as f:\n",
    "    test_split = json.load(f)[\"test\"]\n",
    "    print(f\"{len(test_split)} scans.\")\n",
    "\n",
    "scans_with_roosts = set()\n",
    "n_annotations = 0\n",
    "with open(\"../datasets/roosts_v0.2.0/roosts_v0.2.0.json\", \"r\") as f:\n",
    "    datasets = json.load(f)\n",
    "for annotation in datasets['annotations']:\n",
    "    if annotation[\"scan_id\"] not in test_split:\n",
    "        continue\n",
    "    else:\n",
    "        scans_with_roosts.add(annotation[\"scan_id\"])\n",
    "        n_annotations += 1\n",
    "\n",
    "print(f\"{n_annotations} annotations.\")\n",
    "print(f\"{n_annotations/len(test_split)} annotations per scan.\")\n",
    "print(f\"{n_annotations/len(scans_with_roosts)} annotations per scan, considering only scans with annotations.\")"
   ]
  },
  {
   "cell_type": "code",
   "execution_count": null,
   "metadata": {},
   "outputs": [],
   "source": []
  }
 ],
 "metadata": {
  "kernelspec": {
   "display_name": "roostsys",
   "language": "python",
   "name": "roostsys"
  },
  "language_info": {
   "codemirror_mode": {
    "name": "ipython",
    "version": 3
   },
   "file_extension": ".py",
   "mimetype": "text/x-python",
   "name": "python",
   "nbconvert_exporter": "python",
   "pygments_lexer": "ipython3",
   "version": "3.6.13"
  }
 },
 "nbformat": 4,
 "nbformat_minor": 4
}
